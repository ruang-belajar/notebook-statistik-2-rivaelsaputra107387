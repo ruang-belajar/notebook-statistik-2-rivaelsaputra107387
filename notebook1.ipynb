{
  "nbformat": 4,
  "nbformat_minor": 0,
  "metadata": {
    "colab": {
      "provenance": [],
      "toc_visible": true,
      "include_colab_link": true
    },
    "kernelspec": {
      "name": "python3",
      "display_name": "Python 3"
    },
    "language_info": {
      "name": "python"
    }
  },
  "cells": [
    {
      "cell_type": "markdown",
      "metadata": {
        "id": "view-in-github",
        "colab_type": "text"
      },
      "source": [
        "<a href=\"https://colab.research.google.com/github/ruang-belajar/notebook-statistik-2-rivaelsaputra107387/blob/main/notebook1.ipynb\" target=\"_parent\"><img src=\"https://colab.research.google.com/assets/colab-badge.svg\" alt=\"Open In Colab\"/></a>"
      ]
    },
    {
      "cell_type": "markdown",
      "source": [
        "# [judul]\n",
        "* Nama : Muhammad Rivael Saputra\n",
        "* NIM :  22010017"
      ],
      "metadata": {
        "id": "SOTwCKLPjXe4"
      }
    },
    {
      "cell_type": "code",
      "execution_count": null,
      "metadata": {
        "id": "MFCMGmiLjN-4"
      },
      "outputs": [],
      "source": [
        "\n",
        "# PERSIAPAN DATA\n",
        "\n",
        "# download file contoh csv\n",
        "!wget https://raw.githubusercontent.com/ruang-belajar/python/master/notebook/data/2013-data-kebakaran.csv -O data-kebakaran.csv\n",
        "\n",
        "\n",
        "import pandas as pd\n",
        "\n",
        "# load data ke dataframe (df)\n",
        "df = pd.read_csv(\"data-kebakaran.csv\")\n",
        "df.head()\n"
      ]
    }
  ]
}